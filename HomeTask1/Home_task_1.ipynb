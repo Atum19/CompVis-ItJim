{
 "cells": [
  {
   "cell_type": "code",
   "execution_count": null,
   "id": "5dd4514a-8127-48b3-b828-4969d14398f4",
   "metadata": {},
   "outputs": [],
   "source": [
    "import os\n",
    "import cv2\n",
    "import time\n",
    "import pylab\n",
    "import numpy as np\n",
    "import matplotlib.patches as patches\n",
    "import matplotlib.pyplot as plt\n",
    "from matplotlib.gridspec import GridSpec"
   ]
  },
  {
   "cell_type": "markdown",
   "id": "c6a7436f-28ca-4aae-805d-e78cd4dc2612",
   "metadata": {},
   "source": [
    "### Image #1"
   ]
  },
  {
   "cell_type": "code",
   "execution_count": null,
   "id": "e5761479-dc70-4927-80ac-6d256888a61f",
   "metadata": {},
   "outputs": [],
   "source": [
    "image_filename = '../images_hm_task1/hearts 1.png'\n",
    "img_bgr = cv2.imread(image_filename)\n",
    "img_bgr = cv2.resize(img_bgr, (img_bgr.shape[1] // 2, img_bgr.shape[0] // 2))"
   ]
  },
  {
   "cell_type": "code",
   "execution_count": null,
   "id": "35819b06-ae58-43fe-8454-f3e03efd4f8d",
   "metadata": {},
   "outputs": [],
   "source": [
    "img_bgr = img_bgr[:, 5:-10, :]"
   ]
  },
  {
   "cell_type": "code",
   "execution_count": null,
   "id": "ef392255-82e1-41f9-9a33-baf42714a3f6",
   "metadata": {},
   "outputs": [],
   "source": [
    "img_gray = cv2.cvtColor(img_bgr, cv2.COLOR_BGR2GRAY)"
   ]
  },
  {
   "cell_type": "code",
   "execution_count": null,
   "id": "b2797474-0d72-432f-b41a-6e79560d48d6",
   "metadata": {},
   "outputs": [],
   "source": [
    "img_bin = cv2.adaptiveThreshold(img_gray, 255, cv2.ADAPTIVE_THRESH_GAUSSIAN_C, cv2.THRESH_BINARY, 55, 1)"
   ]
  },
  {
   "cell_type": "code",
   "execution_count": null,
   "id": "74ee0e21-27f6-440c-b904-ebf1a3d41e5f",
   "metadata": {},
   "outputs": [],
   "source": [
    "kernel = np.ones((2,2),np.uint8) # * 255"
   ]
  },
  {
   "cell_type": "code",
   "execution_count": null,
   "id": "62d07ad3-574d-4b25-a7f9-9d1bc6e74705",
   "metadata": {},
   "outputs": [],
   "source": [
    "closing = cv2.morphologyEx(img_bin, cv2.MORPH_CLOSE, kernel)"
   ]
  },
  {
   "cell_type": "code",
   "execution_count": null,
   "id": "0d6479ef-c4a5-4cde-bec3-f77e56333118",
   "metadata": {},
   "outputs": [],
   "source": [
    "img = cv2.erode(closing, np.ones((2, 2), np.uint8), iterations=1)\n",
    "cv2.imshow('', img)\n",
    "cv2.waitKey(0)\n",
    "cv2.destroyWindow('')"
   ]
  },
  {
   "cell_type": "markdown",
   "id": "afc71072-d0a6-49d2-b67c-6d7687aa1241",
   "metadata": {},
   "source": [
    "### Image #2"
   ]
  },
  {
   "cell_type": "code",
   "execution_count": null,
   "id": "c1909837-4763-40c0-bfff-a0257f5a95f7",
   "metadata": {},
   "outputs": [],
   "source": [
    "image_filename2 = '../images_hm_task1/hearts 2.png'\n",
    "img_bgr2 = cv2.imread(image_filename2)\n",
    "img_bgr2 = cv2.resize(img_bgr2, (img_bgr2.shape[1] // 2, img_bgr2.shape[0] // 2))"
   ]
  },
  {
   "cell_type": "code",
   "execution_count": null,
   "id": "bd9ad663-e08f-457e-b09b-b6a4ee50a8a2",
   "metadata": {},
   "outputs": [],
   "source": [
    "img_bgr2 = img_bgr2[:, 5:-10, :]"
   ]
  },
  {
   "cell_type": "code",
   "execution_count": null,
   "id": "423bfb97-e316-4a4e-8d20-a1c2af862fda",
   "metadata": {},
   "outputs": [],
   "source": [
    "img_gray2 = cv2.cvtColor(img_bgr2, cv2.COLOR_BGR2GRAY)"
   ]
  },
  {
   "cell_type": "code",
   "execution_count": null,
   "id": "390c1ef4-8800-4019-9438-f192931ef908",
   "metadata": {},
   "outputs": [],
   "source": [
    "img_bin2 = cv2.adaptiveThreshold(img_gray2, 255, cv2.ADAPTIVE_THRESH_GAUSSIAN_C, cv2.THRESH_BINARY, 55, 1)"
   ]
  },
  {
   "cell_type": "code",
   "execution_count": null,
   "id": "f485cbc1-812a-470b-902b-d0be4ec5c532",
   "metadata": {},
   "outputs": [],
   "source": [
    "closing2 = cv2.morphologyEx(img_bin2, cv2.MORPH_CLOSE, kernel)"
   ]
  },
  {
   "cell_type": "code",
   "execution_count": null,
   "id": "3a82795c-12d4-4c7e-a0d2-3ee5c780eef4",
   "metadata": {},
   "outputs": [],
   "source": [
    "img2 = cv2.erode(closing2, np.ones((3, 3), np.uint8), iterations=1)"
   ]
  },
  {
   "cell_type": "code",
   "execution_count": null,
   "id": "1edef4bf-fef3-4153-9275-19b060509814",
   "metadata": {},
   "outputs": [],
   "source": [
    "cv2.imshow('', img2)\n",
    "cv2.waitKey(0)\n",
    "cv2.destroyWindow('')"
   ]
  },
  {
   "cell_type": "code",
   "execution_count": null,
   "id": "7c94fcab-ff70-4f38-a49d-01b9543792ef",
   "metadata": {},
   "outputs": [],
   "source": []
  }
 ],
 "metadata": {
  "kernelspec": {
   "display_name": "Python 3",
   "language": "python",
   "name": "python3"
  },
  "language_info": {
   "codemirror_mode": {
    "name": "ipython",
    "version": 3
   },
   "file_extension": ".py",
   "mimetype": "text/x-python",
   "name": "python",
   "nbconvert_exporter": "python",
   "pygments_lexer": "ipython3",
   "version": "3.8.8"
  }
 },
 "nbformat": 4,
 "nbformat_minor": 5
}
