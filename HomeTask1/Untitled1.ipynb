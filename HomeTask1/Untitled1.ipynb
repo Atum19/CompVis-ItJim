{
 "cells": [
  {
   "cell_type": "code",
   "execution_count": 1,
   "id": "b95342c3-8e96-4170-aa1e-2ddaf6d4fa2f",
   "metadata": {},
   "outputs": [],
   "source": [
    "import os\n",
    "import cv2\n",
    "import time\n",
    "import pylab\n",
    "import numpy as np\n",
    "import matplotlib.patches as patches\n",
    "import matplotlib.pyplot as plt\n",
    "from matplotlib.gridspec import GridSpec\n"
   ]
  },
  {
   "cell_type": "code",
   "execution_count": 2,
   "id": "c5f8b200-c38c-44bc-8f6d-fa099a86c17b",
   "metadata": {},
   "outputs": [],
   "source": [
    "image_filename = '../images_hm_task1/hearts 1.png'  # or leaves.JPG\n",
    "image = cv2.imread(image_filename)\n",
    "# image = cv2.resize(image, (image.shape[1] // scale_factor, image.shape[0] // scale_factor))\n",
    "\n",
    "# Add text and show the initial image\n",
    "im_to_show = image.copy()\n",
    "# im_to_show = cv2.putText(im_to_show, 'Initial image', (50, 50),\n",
    "#                       cv2.FONT_HERSHEY_SIMPLEX, 1, (0, 255, 255), 2, cv2.LINE_AA)\n",
    "cv2.imshow('', im_to_show)\n",
    "cv2.waitKey(0)\n",
    "cv2.destroyWindow('')"
   ]
  },
  {
   "cell_type": "code",
   "execution_count": 3,
   "id": "2564953b-7877-4495-8bef-19054b852a22",
   "metadata": {},
   "outputs": [],
   "source": [
    "z = np.ones((3,2),np.uint8) # * 255\n",
    "x = np.zeros((3,2),np.uint8)"
   ]
  },
  {
   "cell_type": "code",
   "execution_count": 5,
   "id": "d464e73a-004b-4fd0-a78e-c82e7e2374b4",
   "metadata": {},
   "outputs": [
    {
     "name": "stdout",
     "output_type": "stream",
     "text": [
      "[[1 1 0 0]\n",
      " [1 1 0 0]\n",
      " [1 1 0 0]]\n"
     ]
    }
   ],
   "source": [
    "print(np.hstack((z, x)))"
   ]
  },
  {
   "cell_type": "code",
   "execution_count": 6,
   "id": "2ee8d338-047e-4760-8ded-95430501e8dd",
   "metadata": {},
   "outputs": [
    {
     "data": {
      "text/plain": [
       "array([[1, 1],\n",
       "       [1, 1],\n",
       "       [1, 1]], dtype=uint8)"
      ]
     },
     "execution_count": 6,
     "metadata": {},
     "output_type": "execute_result"
    }
   ],
   "source": [
    "z"
   ]
  },
  {
   "cell_type": "code",
   "execution_count": 7,
   "id": "14961be6-6dbb-4890-8957-400723f8454a",
   "metadata": {},
   "outputs": [
    {
     "data": {
      "text/plain": [
       "array([[0, 0],\n",
       "       [0, 0],\n",
       "       [0, 0]], dtype=uint8)"
      ]
     },
     "execution_count": 7,
     "metadata": {},
     "output_type": "execute_result"
    }
   ],
   "source": [
    "x"
   ]
  }
 ],
 "metadata": {
  "kernelspec": {
   "display_name": "Python 3",
   "language": "python",
   "name": "python3"
  },
  "language_info": {
   "codemirror_mode": {
    "name": "ipython",
    "version": 3
   },
   "file_extension": ".py",
   "mimetype": "text/x-python",
   "name": "python",
   "nbconvert_exporter": "python",
   "pygments_lexer": "ipython3",
   "version": "3.8.8"
  }
 },
 "nbformat": 4,
 "nbformat_minor": 5
}
