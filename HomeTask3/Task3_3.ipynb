{
 "cells": [
  {
   "cell_type": "code",
   "execution_count": null,
   "id": "f6c330cd-7415-4f8d-b3a3-b6e1fa9ed16e",
   "metadata": {},
   "outputs": [],
   "source": [
    "import cv2\n",
    "import numpy as np"
   ]
  },
  {
   "cell_type": "code",
   "execution_count": null,
   "id": "cd4191b4-2da5-482a-a222-04418a731579",
   "metadata": {},
   "outputs": [],
   "source": [
    "ESC=0\n",
    "img1 = cv2.imread('beer3.png')\n",
    "gray1 = cv2.cvtColor(img1, cv2.COLOR_BGR2GRAY)\n",
    "orb = cv2.ORB_create()"
   ]
  },
  {
   "cell_type": "code",
   "execution_count": null,
   "id": "68cc1265-917f-44c4-80aa-8ef9ca2b5b9b",
   "metadata": {},
   "outputs": [],
   "source": [
    "cap = cv2.VideoCapture('beer_table.avi') \n",
    "\n",
    "while(cap.isOpened()):  \n",
    "    (grabbed, frame) = cap.read()  \n",
    "    img2 = frame.copy()\n",
    "\n",
    "    cv2.namedWindow('frame')  \n",
    "    gray2 = cv2.cvtColor(img2,cv2.COLOR_BGR2GRAY) \n",
    "    \n",
    "    kpts1, descs1 = orb.detectAndCompute(gray1,None)\n",
    "    kpts2, descs2 = orb.detectAndCompute(gray2,None)\n",
    "\n",
    "    ## match descriptors and sort them in the order of their distance\n",
    "    bf = cv2.BFMatcher(cv2.NORM_HAMMING, crossCheck=True)\n",
    "    matches = bf.match(descs1, descs2)\n",
    "    dmatches = sorted(matches, key = lambda x:x.distance)\n",
    "\n",
    "    ## extract the matched keypoints\n",
    "    src_pts  = np.float32([kpts1[m.queryIdx].pt for m in dmatches]).reshape(-1,1,2)\n",
    "    dst_pts  = np.float32([kpts2[m.trainIdx].pt for m in dmatches]).reshape(-1,1,2)\n",
    "\n",
    "    ## find homography matrix and do perspective transform\n",
    "    M, mask = cv2.findHomography(src_pts, dst_pts, cv2.RANSAC,5.0)\n",
    "    h,w = img1.shape[:2]\n",
    "    pts = np.float32([ [0,0],[0,h-1],[w-1,h-1],[w-1,0] ]).reshape(-1,1,2)\n",
    "    dst = cv2.perspectiveTransform(pts,M)\n",
    "\n",
    "    ## draw found regions\n",
    "    img2 = cv2.polylines(img2, [np.int32(dst)], True, (0,0,255), 1, cv2.LINE_AA)\n",
    "    cv2.imshow(\"found\", img2)\n",
    "\n",
    "    ## draw match lines\n",
    "    res = cv2.drawMatches(img1, kpts1, img2, kpts2, dmatches[:20],None,flags=2)\n",
    "\n",
    "    cv2.imshow(\"orb_match\", res);\n",
    "    \n",
    "    key = cv2.waitKey(0)                                 \n",
    "    if key == ESC:\n",
    "        break\n",
    "\n",
    "    \n",
    "    \n",
    "cap.release()  \n",
    "cv2.destroyAllWindows()"
   ]
  },
  {
   "cell_type": "code",
   "execution_count": null,
   "id": "eef64a5a-c292-4115-bca9-40d210587842",
   "metadata": {},
   "outputs": [],
   "source": []
  }
 ],
 "metadata": {
  "kernelspec": {
   "display_name": "Python 3",
   "language": "python",
   "name": "python3"
  },
  "language_info": {
   "codemirror_mode": {
    "name": "ipython",
    "version": 3
   },
   "file_extension": ".py",
   "mimetype": "text/x-python",
   "name": "python",
   "nbconvert_exporter": "python",
   "pygments_lexer": "ipython3",
   "version": "3.8.8"
  }
 },
 "nbformat": 4,
 "nbformat_minor": 5
}
