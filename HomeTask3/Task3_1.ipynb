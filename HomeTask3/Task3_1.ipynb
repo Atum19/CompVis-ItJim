{
 "cells": [
  {
   "cell_type": "code",
   "execution_count": 1,
   "id": "cfd5c95b-626e-46f9-8e83-0319b4a063ee",
   "metadata": {},
   "outputs": [],
   "source": [
    "import cv2\n",
    "import numpy as np"
   ]
  },
  {
   "cell_type": "code",
   "execution_count": 2,
   "id": "d8b75797-6a32-46ab-b352-8268507df827",
   "metadata": {},
   "outputs": [],
   "source": [
    "ESC=0\n",
    "img1 = cv2.imread('beer1.png')\n",
    "gray1 = cv2.cvtColor(img1, cv2.COLOR_BGR2GRAY)\n",
    "orb = cv2.ORB_create()"
   ]
  },
  {
   "cell_type": "code",
   "execution_count": 6,
   "id": "ad512107-ac9f-4186-b3c9-4ee01ac46d26",
   "metadata": {},
   "outputs": [],
   "source": [
    "cap = cv2.VideoCapture('beer_table.avi')  \n",
    "\n",
    "#taking frames one by one \n",
    "while(cap.isOpened()):  \n",
    "    (grabbed, frame) = cap.read()  \n",
    "    img2 = frame.copy()\n",
    "\n",
    "    cv2.namedWindow('frame')  \n",
    "    gray2 = cv2.cvtColor(img2,cv2.COLOR_BGR2GRAY) \n",
    "    \n",
    "    kpts1, descs1 = orb.detectAndCompute(gray1,None)\n",
    "    kpts2, descs2 = orb.detectAndCompute(gray2,None)\n",
    "\n",
    "    ## match descriptors and sort them in the order of their distance\n",
    "    bf = cv2.BFMatcher(cv2.NORM_HAMMING, crossCheck=True)\n",
    "    matches = bf.match(descs1, descs2)\n",
    "    dmatches = sorted(matches, key = lambda x:x.distance)\n",
    "\n",
    "    ## extract the matched keypoints\n",
    "    src_pts  = np.float32([kpts1[m.queryIdx].pt for m in dmatches]).reshape(-1,1,2)\n",
    "    dst_pts  = np.float32([kpts2[m.trainIdx].pt for m in dmatches]).reshape(-1,1,2)\n",
    "\n",
    "    ## find homography matrix and do perspective transform\n",
    "    M, mask = cv2.findHomography(src_pts, dst_pts, cv2.RANSAC,5.0)\n",
    "    h,w = img1.shape[:2]\n",
    "    pts = np.float32([ [0,0],[0,h-1],[w-1,h-1],[w-1,0] ]).reshape(-1,1,2)\n",
    "    dst = cv2.perspectiveTransform(pts,M)\n",
    "\n",
    "    ## draw found regions\n",
    "    img2 = cv2.polylines(img2, [np.int32(dst)], True, (0,0,255), 1, cv2.LINE_AA)\n",
    "    cv2.imshow(\"found\", img2)\n",
    "\n",
    "    ## draw match lines\n",
    "    res = cv2.drawMatches(img1, kpts1, img2, kpts2, dmatches[:20],None,flags=2)\n",
    "\n",
    "    cv2.imshow(\"orb_match\", res);\n",
    "    \n",
    "    k = cv2.waitKey(30) & 0xff\n",
    "    if k == 27:\n",
    "        break\n",
    "    \n",
    "#     key = cv2.waitKey(0)                                 \n",
    "#     if key == ESC:\n",
    "#         break\n",
    "\n",
    "    \n",
    "    \n",
    "cap.release()  \n",
    "cv2.destroyAllWindows()"
   ]
  },
  {
   "cell_type": "code",
   "execution_count": null,
   "id": "1dfb5f99-8854-474b-9824-858bd7f6bc77",
   "metadata": {},
   "outputs": [],
   "source": []
  },
  {
   "cell_type": "code",
   "execution_count": null,
   "id": "6381461c-30f0-40d4-8719-01a477052f0a",
   "metadata": {},
   "outputs": [],
   "source": []
  },
  {
   "cell_type": "code",
   "execution_count": null,
   "id": "5217b6d2-7642-48a2-a48f-7a84f1ed7efe",
   "metadata": {},
   "outputs": [],
   "source": []
  },
  {
   "cell_type": "code",
   "execution_count": null,
   "id": "efa13dcd-c6f0-4261-8703-33ad191f393c",
   "metadata": {},
   "outputs": [],
   "source": []
  },
  {
   "cell_type": "code",
   "execution_count": null,
   "id": "a69caf97-e457-44be-a9da-7de2ca1ee4a7",
   "metadata": {},
   "outputs": [],
   "source": []
  },
  {
   "cell_type": "code",
   "execution_count": null,
   "id": "5a7dfc93-e01e-451f-8db2-4aa9b7fd589c",
   "metadata": {},
   "outputs": [],
   "source": []
  },
  {
   "cell_type": "code",
   "execution_count": null,
   "id": "cf81c69f-51fb-4e30-94da-0708bbabf4cb",
   "metadata": {},
   "outputs": [],
   "source": []
  }
 ],
 "metadata": {
  "kernelspec": {
   "display_name": "Python 3",
   "language": "python",
   "name": "python3"
  },
  "language_info": {
   "codemirror_mode": {
    "name": "ipython",
    "version": 3
   },
   "file_extension": ".py",
   "mimetype": "text/x-python",
   "name": "python",
   "nbconvert_exporter": "python",
   "pygments_lexer": "ipython3",
   "version": "3.8.8"
  }
 },
 "nbformat": 4,
 "nbformat_minor": 5
}
